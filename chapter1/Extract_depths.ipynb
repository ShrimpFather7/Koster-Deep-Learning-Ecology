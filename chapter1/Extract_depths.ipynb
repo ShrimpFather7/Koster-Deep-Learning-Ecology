{
 "cells": [
  {
   "cell_type": "code",
   "execution_count": 22,
   "metadata": {},
   "outputs": [],
   "source": [
    "# Hello! Welcome to this script that allows you to take a series of images from ROV-footage, crop them, \n",
    "# and extract depth information from the ROV overlay. This script is adapted to output from SUBSIM\n",
    "# (www.subsim.se) Jupyter notebook \"Upload clips or frames to Zooniverse\" which generates a series of images \n",
    "# from a video at a set rate. This was used by Nilsson et al. (2025) to assign image frames annotated by a \n",
    "# YOLOv8 object detection model with depths for ecological analyses. \n",
    "# Questions can be emailed to christian.nilsson7@outlook.com\n",
    "\n",
    "# First, load the necessary packages.\n",
    "import os\n",
    "import csv\n",
    "import easyocr\n",
    "import numpy as np\n",
    "import pandas as pd\n",
    "import matplotlib.pyplot as plt\n",
    "from PIL import Image, ImageEnhance, ImageOps"
   ]
  },
  {
   "cell_type": "code",
   "execution_count": 2,
   "metadata": {},
   "outputs": [],
   "source": [
    "# Set up a file path to a test image.\n",
    "file_path = 'Path/to/chp_1_example_data/01747001_frame_0.jpg'\n",
    "\n",
    "# Set up a folder path for later analysis of all included images.\n",
    "folder_path = 'Path/to/chp_1_example_data/'"
   ]
  },
  {
   "cell_type": "code",
   "execution_count": 3,
   "metadata": {},
   "outputs": [
    {
     "data": {
      "image/png": "[encoded data removed]",
      "text/plain": [
       "<PIL.Image.Image image mode=RGB size=140x90>"
      ]
     },
     "execution_count": 3,
     "metadata": {},
     "output_type": "execute_result"
    }
   ],
   "source": [
    "# Due to national security reasons, we are unable to share uncropped images that include seafloor\n",
    "# and depth. Therefore this script will proceed with pre-cropped example footage.\n",
    "\n",
    "# Play around with image optics to make it as clear as possible.\n",
    "img = Image.open(file_path)\n",
    "\n",
    "# !OPTIONAL USE ONLY WITH OUTPUT DATA FROM SUBSIM\n",
    "\n",
    "# Cropping coordinates, try to find only the depth value (i.e. as in the example data)\n",
    "#start_height = 110\n",
    "#end_height = 15\n",
    "#start_width = 160\n",
    "#end_width = 230\n",
    "\n",
    "#cropped_img = img.crop((start_width, start_height, end_width, end_height))\n",
    "\n",
    "# All these are optional, just do what works best for you :)\n",
    "\n",
    "enhancer = ImageEnhance.Contrast(img) # Can change to \"cropped_img\"\n",
    "            \n",
    "contrast_factor = 2 # Degree of contrast.\n",
    "                \n",
    "adjusted_img = enhancer.enhance(contrast_factor)\n",
    "\n",
    "adjusted_img = ImageOps.invert(adjusted_img) # Invert colors.\n",
    "\n",
    "resized_img = adjusted_img.resize((140, 90)) # Change size of output image. This can actually impact OCR performance!\n",
    "\n",
    "resized_img"
   ]
  },
  {
   "cell_type": "code",
   "execution_count": 5,
   "metadata": {},
   "outputs": [
    {
     "name": "stderr",
     "output_type": "stream",
     "text": [
      "Neither CUDA nor MPS are available - defaulting to CPU. Note: This module is much faster with a GPU.\n"
     ]
    }
   ],
   "source": [
    "# Apply these changes and test OCR on the image\n",
    "\n",
    "reader = easyocr.Reader(['en']) # OCR language\n",
    "\n",
    "img = Image.open(file_path)\n",
    "                                \n",
    "#cropped_img = img.crop((start_width, start_height, end_width, end_height))\n",
    "        \n",
    "enhancer = ImageEnhance.Contrast(img) # Can change to \"cropped_img\n",
    "            \n",
    "contrast_factor = 2\n",
    "                \n",
    "adjusted_img = enhancer.enhance(contrast_factor)\n",
    "\n",
    "adjusted_img = ImageOps.invert(adjusted_img)\n",
    "\n",
    "adjusted_img = adjusted_img.resize((140, 90))\n",
    "\n",
    "adjusted_img.save('C:/Users/chris/OneDrive/Skrivbord/output.jpg') # OCR requires an image file, so you need to save output\n",
    "                                                                  # somewhere.  \n",
    "                \n",
    "result = reader.readtext('C:/Users/chris/OneDrive/Skrivbord/output.jpg', allowlist='.0123456789') # Allowlist regulates which\n",
    "                                                                                                  # characters the OCR can\n",
    "                                                                                                  # recognize."
   ]
  },
  {
   "cell_type": "code",
   "execution_count": 6,
   "metadata": {},
   "outputs": [
    {
     "data": {
      "text/plain": [
       "[([[0, 4], [140, 4], [140, 82], [0, 82]], '60.4', 0.6573424283483521)]"
      ]
     },
     "execution_count": 6,
     "metadata": {},
     "output_type": "execute_result"
    }
   ],
   "source": [
    "# Check the...\n",
    "result\n",
    "\n",
    "# Last two columns are the important ones. Read text and confidence."
   ]
  },
  {
   "cell_type": "code",
   "execution_count": 6,
   "metadata": {},
   "outputs": [],
   "source": [
    "# Use only when you need to crop images\n",
    "\n",
    "# Function that performs the same operation as the previous two cells, but on yout entire folder of images, overwriting them\n",
    "# with cropped images. Make sure to have a copy ready!\n",
    "\n",
    "#def crop_and_ocr_images(folder_path):\n",
    "    \n",
    "#    reader = easyocr.Reader(['en'])\n",
    "    \n",
    "#    ocr_results_df = pd.DataFrame(columns = ['original_filename', 'depth_m'])\n",
    "    \n",
    "#    files = os.listdir(folder_path)\n",
    "    \n",
    "#    for file_name in files:\n",
    "        \n",
    "#        file_path = os.path.join(folder_path, file_name)\n",
    "        \n",
    "#        if file_name.lower().endswith(('.png', '.jpg', '.jpeg', '.gif', '.bmp')):\n",
    "#            try:\n",
    "                \n",
    "#                img = Image.open(file_path)\n",
    "                \n",
    "#                cropped_file_path = os.path.splitext(file_path)[0] + '_cropped' + os.path.splitext(file_path)[1]\n",
    "                \n",
    "#                cropped_img = img.crop((start_width, start_height, end_width, end_height))\n",
    "        \n",
    "#                enhancer = ImageEnhance.Contrast(cropped_img)\n",
    "            \n",
    "#                contrast_factor = 1.7\n",
    "                \n",
    "#                adjusted_img = enhancer.enhance(contrast_factor)\n",
    "\n",
    "#                adjusted_img = ImageOps.invert(adjusted_img)\n",
    "        \n",
    "#                resized_img = adjusted_img.resize((140, 90))\n",
    "                \n",
    "#                resized_img.save(file_path)\n",
    "                \n",
    "#                result = reader.readtext(file_path, allowlist='.0123456789')\n",
    "                \n",
    "#                for detection in result:\n",
    "#                    ocr_results_df = ocr_results_df.append({'original_filename': file_name, 'depth_m': detection[1]}, ignore_index = True)\n",
    "                    \n",
    "#           except Exception as e:\n",
    "#                print(f\"Error processing {file_name}: {e}\")\n",
    "                \n",
    "#        else:\n",
    "#            print(f\"Skipping non-image file: {file_name}\")\n",
    "    \n",
    "#    return(ocr_results_df) # Output dataframe including filenames and text reads."
   ]
  },
  {
   "cell_type": "code",
   "execution_count": 13,
   "metadata": {},
   "outputs": [
    {
     "name": "stderr",
     "output_type": "stream",
     "text": [
      "Neither CUDA nor MPS are available - defaulting to CPU. Note: This module is much faster with a GPU.\n"
     ]
    }
   ],
   "source": [
    "# Run it! (you can track progress in the folder your working in by looking at images as large icons)\n",
    "#depthframe = crop_and_ocr_images(folder_path)"
   ]
  },
  {
   "cell_type": "code",
   "execution_count": 7,
   "metadata": {},
   "outputs": [],
   "source": [
    "# Use this on the example data.\n",
    "def ocr_images(folder_path):\n",
    "    \n",
    "    reader = easyocr.Reader(['en'])\n",
    "    \n",
    "    ocr_results_df = pd.DataFrame(columns = ['original_filename', 'depth_m'])\n",
    "    \n",
    "    files = os.listdir(folder_path)\n",
    "    \n",
    "    for file_name in files:\n",
    "        \n",
    "        file_path = os.path.join(folder_path, file_name)\n",
    "        \n",
    "        if file_name.lower().endswith(('.png', '.jpg', '.jpeg', '.gif', '.bmp')):\n",
    "            try:\n",
    "                \n",
    "                img = Image.open(file_path)\n",
    "                     \n",
    "                enhancer = ImageEnhance.Contrast(img)\n",
    "            \n",
    "                contrast_factor = 1.7\n",
    "                \n",
    "                adjusted_img = enhancer.enhance(contrast_factor)\n",
    "\n",
    "                adjusted_img = ImageOps.invert(adjusted_img)\n",
    "        \n",
    "                resized_img = adjusted_img.resize((140, 90))\n",
    "                               \n",
    "                result = reader.readtext(file_path, allowlist='.0123456789')\n",
    "                \n",
    "                for detection in result:\n",
    "                    ocr_results_df = ocr_results_df.append({'original_filename': file_name, 'depth_m': detection[1]}, ignore_index = True)\n",
    "                    \n",
    "            except Exception as e:\n",
    "                print(f\"Error processing {file_name}: {e}\")\n",
    "                \n",
    "        else:\n",
    "            print(f\"Skipping non-image file: {file_name}\")\n",
    "    \n",
    "    return(ocr_results_df)"
   ]
  },
  {
   "cell_type": "code",
   "execution_count": 8,
   "metadata": {},
   "outputs": [
    {
     "name": "stderr",
     "output_type": "stream",
     "text": [
      "Neither CUDA nor MPS are available - defaulting to CPU. Note: This module is much faster with a GPU.\n"
     ]
    }
   ],
   "source": [
    "# Run it!\n",
    "depthframe=ocr_images(folder_path)"
   ]
  },
  {
   "cell_type": "code",
   "execution_count": 9,
   "metadata": {},
   "outputs": [
    {
     "data": {
      "text/html": [
       "<div>\n",
       "<style scoped>\n",
       "    .dataframe tbody tr th:only-of-type {\n",
       "        vertical-align: middle;\n",
       "    }\n",
       "\n",
       "    .dataframe tbody tr th {\n",
       "        vertical-align: top;\n",
       "    }\n",
       "\n",
       "    .dataframe thead th {\n",
       "        text-align: right;\n",
       "    }\n",
       "</style>\n",
       "<table border=\"1\" class=\"dataframe\">\n",
       "  <thead>\n",
       "    <tr style=\"text-align: right;\">\n",
       "      <th></th>\n",
       "      <th>original_filename</th>\n",
       "      <th>depth_m</th>\n",
       "    </tr>\n",
       "  </thead>\n",
       "  <tbody>\n",
       "    <tr>\n",
       "      <th>0</th>\n",
       "      <td>01747001_frame_0.jpg</td>\n",
       "      <td>60.4</td>\n",
       "    </tr>\n",
       "    <tr>\n",
       "      <th>1</th>\n",
       "      <td>01747001_frame_10080.jpg</td>\n",
       "      <td>113.</td>\n",
       "    </tr>\n",
       "    <tr>\n",
       "      <th>2</th>\n",
       "      <td>01747001_frame_10185.jpg</td>\n",
       "      <td>113.</td>\n",
       "    </tr>\n",
       "    <tr>\n",
       "      <th>3</th>\n",
       "      <td>01747001_frame_10290.jpg</td>\n",
       "      <td>113.</td>\n",
       "    </tr>\n",
       "    <tr>\n",
       "      <th>4</th>\n",
       "      <td>01747001_frame_10395.jpg</td>\n",
       "      <td>113.</td>\n",
       "    </tr>\n",
       "    <tr>\n",
       "      <th>...</th>\n",
       "      <td>...</td>\n",
       "      <td>...</td>\n",
       "    </tr>\n",
       "    <tr>\n",
       "      <th>496</th>\n",
       "      <td>01747003_frame_9555.jpg</td>\n",
       "      <td>63.2</td>\n",
       "    </tr>\n",
       "    <tr>\n",
       "      <th>497</th>\n",
       "      <td>01747003_frame_9660.jpg</td>\n",
       "      <td>63.1</td>\n",
       "    </tr>\n",
       "    <tr>\n",
       "      <th>498</th>\n",
       "      <td>01747003_frame_9765.jpg</td>\n",
       "      <td>63.2</td>\n",
       "    </tr>\n",
       "    <tr>\n",
       "      <th>499</th>\n",
       "      <td>01747003_frame_9870.jpg</td>\n",
       "      <td>62.9</td>\n",
       "    </tr>\n",
       "    <tr>\n",
       "      <th>500</th>\n",
       "      <td>01747003_frame_9975.jpg</td>\n",
       "      <td>63.0</td>\n",
       "    </tr>\n",
       "  </tbody>\n",
       "</table>\n",
       "<p>501 rows × 2 columns</p>\n",
       "</div>"
      ],
      "text/plain": [
       "            original_filename depth_m\n",
       "0        01747001_frame_0.jpg    60.4\n",
       "1    01747001_frame_10080.jpg    113.\n",
       "2    01747001_frame_10185.jpg    113.\n",
       "3    01747001_frame_10290.jpg    113.\n",
       "4    01747001_frame_10395.jpg    113.\n",
       "..                        ...     ...\n",
       "496   01747003_frame_9555.jpg    63.2\n",
       "497   01747003_frame_9660.jpg    63.1\n",
       "498   01747003_frame_9765.jpg    63.2\n",
       "499   01747003_frame_9870.jpg    62.9\n",
       "500   01747003_frame_9975.jpg    63.0\n",
       "\n",
       "[501 rows x 2 columns]"
      ]
     },
     "execution_count": 9,
     "metadata": {},
     "output_type": "execute_result"
    }
   ],
   "source": [
    "# Check out your...\n",
    "depthframe"
   ]
  },
  {
   "cell_type": "code",
   "execution_count": 10,
   "metadata": {},
   "outputs": [],
   "source": [
    "# Turn your dataframe from one with file names and text reads to one with frame numbers and depth reads!\n",
    "# (made for a filename formate of \"VIDEONAME_frame_FRAMENUMBER\")\n",
    "\n",
    "split_frame = depthframe['original_filename'].str.split('_', expand=True)\n",
    "depthframe['filename'] = split_frame[0]\n",
    "depthframe['frame_no'] = split_frame[2]\n",
    "depthframe.drop(columns=['original_filename'], inplace=True)"
   ]
  },
  {
   "cell_type": "code",
   "execution_count": 11,
   "metadata": {},
   "outputs": [
    {
     "data": {
      "text/html": [
       "<div>\n",
       "<style scoped>\n",
       "    .dataframe tbody tr th:only-of-type {\n",
       "        vertical-align: middle;\n",
       "    }\n",
       "\n",
       "    .dataframe tbody tr th {\n",
       "        vertical-align: top;\n",
       "    }\n",
       "\n",
       "    .dataframe thead th {\n",
       "        text-align: right;\n",
       "    }\n",
       "</style>\n",
       "<table border=\"1\" class=\"dataframe\">\n",
       "  <thead>\n",
       "    <tr style=\"text-align: right;\">\n",
       "      <th></th>\n",
       "      <th>depth_m</th>\n",
       "      <th>filename</th>\n",
       "      <th>frame_no</th>\n",
       "    </tr>\n",
       "  </thead>\n",
       "  <tbody>\n",
       "    <tr>\n",
       "      <th>0</th>\n",
       "      <td>60.4</td>\n",
       "      <td>01747001</td>\n",
       "      <td>0.jpg</td>\n",
       "    </tr>\n",
       "    <tr>\n",
       "      <th>1</th>\n",
       "      <td>113.</td>\n",
       "      <td>01747001</td>\n",
       "      <td>10080.jpg</td>\n",
       "    </tr>\n",
       "    <tr>\n",
       "      <th>2</th>\n",
       "      <td>113.</td>\n",
       "      <td>01747001</td>\n",
       "      <td>10185.jpg</td>\n",
       "    </tr>\n",
       "    <tr>\n",
       "      <th>3</th>\n",
       "      <td>113.</td>\n",
       "      <td>01747001</td>\n",
       "      <td>10290.jpg</td>\n",
       "    </tr>\n",
       "    <tr>\n",
       "      <th>4</th>\n",
       "      <td>113.</td>\n",
       "      <td>01747001</td>\n",
       "      <td>10395.jpg</td>\n",
       "    </tr>\n",
       "    <tr>\n",
       "      <th>...</th>\n",
       "      <td>...</td>\n",
       "      <td>...</td>\n",
       "      <td>...</td>\n",
       "    </tr>\n",
       "    <tr>\n",
       "      <th>496</th>\n",
       "      <td>63.2</td>\n",
       "      <td>01747003</td>\n",
       "      <td>9555.jpg</td>\n",
       "    </tr>\n",
       "    <tr>\n",
       "      <th>497</th>\n",
       "      <td>63.1</td>\n",
       "      <td>01747003</td>\n",
       "      <td>9660.jpg</td>\n",
       "    </tr>\n",
       "    <tr>\n",
       "      <th>498</th>\n",
       "      <td>63.2</td>\n",
       "      <td>01747003</td>\n",
       "      <td>9765.jpg</td>\n",
       "    </tr>\n",
       "    <tr>\n",
       "      <th>499</th>\n",
       "      <td>62.9</td>\n",
       "      <td>01747003</td>\n",
       "      <td>9870.jpg</td>\n",
       "    </tr>\n",
       "    <tr>\n",
       "      <th>500</th>\n",
       "      <td>63.0</td>\n",
       "      <td>01747003</td>\n",
       "      <td>9975.jpg</td>\n",
       "    </tr>\n",
       "  </tbody>\n",
       "</table>\n",
       "<p>501 rows × 3 columns</p>\n",
       "</div>"
      ],
      "text/plain": [
       "    depth_m  filename   frame_no\n",
       "0      60.4  01747001      0.jpg\n",
       "1      113.  01747001  10080.jpg\n",
       "2      113.  01747001  10185.jpg\n",
       "3      113.  01747001  10290.jpg\n",
       "4      113.  01747001  10395.jpg\n",
       "..      ...       ...        ...\n",
       "496    63.2  01747003   9555.jpg\n",
       "497    63.1  01747003   9660.jpg\n",
       "498    63.2  01747003   9765.jpg\n",
       "499    62.9  01747003   9870.jpg\n",
       "500    63.0  01747003   9975.jpg\n",
       "\n",
       "[501 rows x 3 columns]"
      ]
     },
     "execution_count": 11,
     "metadata": {},
     "output_type": "execute_result"
    }
   ],
   "source": [
    "# Not done yet, but take a look! (.jpg should be part of \"frame_no\" here).\n",
    "depthframe"
   ]
  },
  {
   "cell_type": "code",
   "execution_count": 12,
   "metadata": {},
   "outputs": [],
   "source": [
    "# Before we're done we've got some bug fixes to take care of. Start by making a copy to be safe.\n",
    "depthframe2 = depthframe.copy()"
   ]
  },
  {
   "cell_type": "code",
   "execution_count": 13,
   "metadata": {},
   "outputs": [],
   "source": [
    "# A common issue is the read of two periods in a row. Remove any of those here.\n",
    "def remove_one_period(text):\n",
    "    return text.replace('..', '.')\n",
    "\n",
    "depthframe['depth_m'] = depthframe['depth_m'].apply(remove_one_period)"
   ]
  },
  {
   "cell_type": "code",
   "execution_count": 14,
   "metadata": {},
   "outputs": [],
   "source": [
    "# See if you can convert depth reads to float type, frame number to int, and remove \".jpg\" from the filename.\n",
    "depthframe['depth_m'] = depthframe['depth_m'].astype(float)\n",
    "depthframe['frame_no'] = depthframe['frame_no'].str[:-4]\n",
    "depthframe['frame_no'] = depthframe['frame_no'].astype(int)\n",
    "\n",
    "# No error? You're good to proceed!"
   ]
  },
  {
   "cell_type": "code",
   "execution_count": 15,
   "metadata": {},
   "outputs": [],
   "source": [
    "# Specify the max frame number of your videos.\n",
    "maxframes = 17463\n",
    "\n",
    "# Since frame number resets at the start of each consecutive video, we have to make it consecutive\n",
    "# ourselves. This function does just that by adding the maximum frame number of the previous video\n",
    "# to the next. However, you must know the maximum frame number of your videos and all except the\n",
    "# last video have to have the same max frame number for this to work.\n",
    "def consecutivize(df):\n",
    "    \n",
    "    df_copy = df.copy() \n",
    "    \n",
    "    filenames = df_copy['filename'].unique()\n",
    "    \n",
    "    n_frames = 0\n",
    "    \n",
    "    for file in filenames:\n",
    "        \n",
    "        df_copy.loc[df_copy['filename'] == file, 'frame_no'] += n_frames\n",
    "        \n",
    "        n_frames = n_frames + maxframes + 1 # +1 if frame numbers reset to 0\n",
    "        \n",
    "        print(df_copy[df_copy['filename'] == file]['frame_no'].max())\n",
    "    \n",
    "    return df_copy"
   ]
  },
  {
   "cell_type": "code",
   "execution_count": 16,
   "metadata": {},
   "outputs": [
    {
     "name": "stdout",
     "output_type": "stream",
     "text": [
      "17430\n",
      "34894\n",
      "52358\n"
     ]
    }
   ],
   "source": [
    "# Run it! The difference between the output values should be = maxframes (+ 1) \n",
    "# (except the last if it has less frames, which is okay).\n",
    "depthframe=consecutivize(depthframe)"
   ]
  },
  {
   "cell_type": "code",
   "execution_count": 19,
   "metadata": {},
   "outputs": [
    {
     "data": {
      "text/plain": [
       "<matplotlib.collections.PathCollection at 0x1c8a8ecb4a8>"
      ]
     },
     "execution_count": 19,
     "metadata": {},
     "output_type": "execute_result"
    },
    {
     "data": {
      "image/png": "[encoded data removed]",
      "text/plain": [
       "<Figure size 432x288 with 1 Axes>"
      ]
     },
     "metadata": {
      "needs_background": "light"
     },
     "output_type": "display_data"
    }
   ],
   "source": [
    "# Check the depth distribution vs. frame numbers. Can you spot any bugs?\n",
    "plt.scatter(depthframe['frame_no'], depthframe['depth_m'])"
   ]
  },
  {
   "cell_type": "code",
   "execution_count": null,
   "metadata": {},
   "outputs": [],
   "source": [
    "# OPTIONAL Use this to easily identify values with unreasonably high differences to their neighbor (for mask purposes).\n",
    "\n",
    "depth_m_diff = depthframe['depth_m'].diff()"
   ]
  },
  {
   "cell_type": "code",
   "execution_count": 18,
   "metadata": {},
   "outputs": [],
   "source": [
    "# OPTIONAL - If you have some outliers that look a degree of power or two too high. Try this to bring them down to the others.\n",
    "\n",
    "# Make a logical mask that isolates problematic depth values. Here are some options, use those that are useful, mute the others.\n",
    "mask = (depthframe['depth_m'] > 200) #& (depthframe['frame_no']<40000) #& (depthframe['frame_no']<52400) # | ((test['frame_no'] > 50000) & (test['depth_m'] > 60)) #| (abs(depth_m_diff) > 3) # | ((test['frame_no'] > 50000) & (test['depth_m'] > 60))\n",
    "\n",
    "# Apply it, and divide problematic depth values by 10.\n",
    "depthframe.loc[mask, 'depth_m'] /= 10\n",
    "\n",
    "# Go back and check the depth graph!\n",
    "\n",
    "# If it looks good, move on to the next non-optional step!"
   ]
  },
  {
   "cell_type": "code",
   "execution_count": null,
   "metadata": {},
   "outputs": [],
   "source": [
    "# OPTIONAL - If you have some outliers that just look wrong. Try this to remove them, linear interpolation will give them \n",
    "# depths later in R.\n",
    "\n",
    "# Make a logical mask that isolates problematic depth values. Here are some options, use those that are useful, mute the others.\n",
    "#mask = (depthframe['depth_m'] > 200) #& (depthframe['frame_no']<40000) #& (depthframe['frame_no']<52400) # | ((test['frame_no'] > 50000) & (test['depth_m'] > 60)) #| (abs(depth_m_diff) > 3) # | ((test['frame_no'] > 50000) & (test['depth_m'] > 60))\n",
    "\n",
    "# Apply it, and remove problematic depth values.\n",
    "#depthframe.loc[mask, 'depth_m'] = np.nan\n",
    "\n",
    "# Go back and check the depth graph!\n",
    "\n",
    "# If it looks good, move on to the next non-optional step!"
   ]
  },
  {
   "cell_type": "code",
   "execution_count": 20,
   "metadata": {
    "scrolled": true
   },
   "outputs": [
    {
     "data": {
      "text/plain": [
       "'C:\\\\Users\\\\chris\\\\OneDrive\\\\Skrivbord\\\\Depth_Learning_Submission\\\\Depth learning code\\\\1 - Depth extraction'"
      ]
     },
     "execution_count": 20,
     "metadata": {},
     "output_type": "execute_result"
    }
   ],
   "source": [
    "# OPTIONAL Check the working directory before exporting.\n",
    "os.getcwd()"
   ]
  },
  {
   "cell_type": "code",
   "execution_count": 21,
   "metadata": {},
   "outputs": [],
   "source": [
    "# Done already? Congrats! Name and export your fancy new df to your working directory.\n",
    "\n",
    "# Add a leading apostrophe to avoid excel reading filename as int's and removing leading 0's\n",
    "depthframe[\"filename\"] = depthframe[\"filename\"].apply(lambda x: f\"'{x}\")\n",
    "\n",
    "depthframe.to_csv('chp_2_depth_df.csv', index = False)"
   ]
  }
 ],
 "metadata": {
  "kernelspec": {
   "display_name": "Python 3",
   "language": "python",
   "name": "python3"
  },
  "language_info": {
   "codemirror_mode": {
    "name": "ipython",
    "version": 3
   },
   "file_extension": ".py",
   "mimetype": "text/x-python",
   "name": "python",
   "nbconvert_exporter": "python",
   "pygments_lexer": "ipython3",
   "version": "3.7.3"
  }
 },
 "nbformat": 4,
 "nbformat_minor": 2
}
